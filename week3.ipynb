{
  "nbformat": 4,
  "nbformat_minor": 0,
  "metadata": {
    "colab": {
      "provenance": [],
      "collapsed_sections": [],
      "include_colab_link": true
    },
    "kernelspec": {
      "name": "python3",
      "display_name": "Python 3"
    },
    "language_info": {
      "name": "python"
    }
  },
  "cells": [
    {
      "cell_type": "markdown",
      "metadata": {
        "id": "view-in-github",
        "colab_type": "text"
      },
      "source": [
        "<a href=\"https://colab.research.google.com/github/Prasad0770/PythonProgammingII/blob/main/week3.ipynb\" target=\"_parent\"><img src=\"https://colab.research.google.com/assets/colab-badge.svg\" alt=\"Open In Colab\"/></a>"
      ]
    },
    {
      "cell_type": "markdown",
      "source": [
        "#Section A\n"
      ],
      "metadata": {
        "id": "bfpwWRwGfd7Z"
      }
    },
    {
      "cell_type": "code",
      "source": [
        "#1\n",
        "def divide(a,b,c):\n",
        "  sum1 =[]\n",
        "  add1 = 0\n",
        "  for i in range(a,b+1):\n",
        "    if i%c==0:\n",
        "      sum1.append(i)\n",
        "    else:\n",
        "      pass\n",
        "  if sum(sum1)==0:\n",
        "    print(\"no number between\", a ,\"and\", b, \"can be evenly divided by \", c)\n",
        "  else:\n",
        "    total = sum(sum1)\n",
        "    print(\"the sum of the numbers that are evenly divided by \", c, \"from the range  \", a ,\"to \",  b,\"is\",total)\n",
        "divide(1,10,2)"
      ],
      "metadata": {
        "colab": {
          "base_uri": "https://localhost:8080/"
        },
        "id": "8FhfwqAvrtHT",
        "outputId": "734d7233-14fd-4b49-f699-d124e0aea86c"
      },
      "execution_count": null,
      "outputs": [
        {
          "output_type": "stream",
          "name": "stdout",
          "text": [
            "the sum of the numbers that are evenly divided by  2 from the range   1 to  10 is 30\n"
          ]
        }
      ]
    },
    {
      "cell_type": "code",
      "execution_count": null,
      "metadata": {
        "id": "kaoGe_EmPlbt",
        "colab": {
          "base_uri": "https://localhost:8080/"
        },
        "outputId": "e9714fdc-c647-4459-8d22-c5edeab3f515"
      },
      "outputs": [
        {
          "output_type": "stream",
          "name": "stdout",
          "text": [
            "Enter a string: \n",
            "Prasad\n",
            "enter desired character: \n",
            "x\n",
            "\n",
            "Original String:  Prasad\n",
            "New string:  Prxsxd\n"
          ]
        }
      ],
      "source": [
        "#2\n",
        "def replace():\n",
        "  print(\"Enter a string: \")\n",
        "  str =input()\n",
        "  print(\"enter desired character: \")\n",
        "  char=input()\n",
        "  newstr= \"\"\n",
        "  for i in range(len(str)):\n",
        "    if str[i]=='a' or str[i]=='e'or str[i]=='i'or str[i]=='o'or str[i]=='u' :\n",
        "      newstr = newstr +char\n",
        "    else:\n",
        "      newstr = newstr +str[i]\n",
        "  print(\"\\nOriginal String: \", str)\n",
        "  print(\"New string: \", newstr)\n",
        "replace()"
      ]
    },
    {
      "cell_type": "code",
      "source": [
        "#3\n",
        "def fact(a):\n",
        "  if a ==1:\n",
        "    return 1\n",
        "  else:\n",
        "    return a*(a-1)\n",
        "\n",
        "x = int(input())\n",
        "res =(x)\n",
        "print(res)"
      ],
      "metadata": {
        "id": "171RyMlsadon"
      },
      "execution_count": null,
      "outputs": []
    },
    {
      "cell_type": "code",
      "source": [
        "#4\n",
        "def checkexpression(s):\n",
        "  expres = eval(s)\n",
        "  if expres:\n",
        "    return True\n",
        "  else:\n",
        "    return False\n",
        "  \n",
        "checkexpression(\"2<8<24\")"
      ],
      "metadata": {
        "colab": {
          "base_uri": "https://localhost:8080/"
        },
        "id": "tQisAFn4cMtd",
        "outputId": "b503b5ca-440b-4c32-fa33-b0c29f9104c2"
      },
      "execution_count": null,
      "outputs": [
        {
          "output_type": "execute_result",
          "data": {
            "text/plain": [
              "True"
            ]
          },
          "metadata": {},
          "execution_count": 7
        }
      ]
    },
    {
      "cell_type": "code",
      "source": [
        "#5\n",
        "def hamming(stri1 ,stri2):\n",
        "  i = 0\n",
        "  count=0\n",
        "  while i<len(stri1):\n",
        "    if stri1[i] != stri2[i]:\n",
        "      count += 1\n",
        "    i +=1\n",
        "  print(\"Hamming distance between\" ,stri1, \"and\",stri2,\"is :\",count)\n",
        "\n",
        "hamming(\"abcde\", \"bcdef\")\n",
        "\n"
      ],
      "metadata": {
        "id": "dA5QBabeePRO",
        "colab": {
          "base_uri": "https://localhost:8080/"
        },
        "outputId": "68004fc1-4010-4d1c-9c70-1fac20405338"
      },
      "execution_count": null,
      "outputs": [
        {
          "output_type": "stream",
          "name": "stdout",
          "text": [
            "Hamming distance between abcde and bcdef is : 5\n"
          ]
        }
      ]
    },
    {
      "cell_type": "markdown",
      "source": [
        "#Section B"
      ],
      "metadata": {
        "id": "CYPi2y6pfiyu"
      }
    },
    {
      "cell_type": "code",
      "source": [
        "#1\n",
        "def filter_list(l):  \n",
        "    output = []\n",
        "    for i in l:  \n",
        "        if type(i) != str:  \n",
        "            output.append(i)  \n",
        "    return output\n",
        "\n",
        "print(filter_list([1,2,3,67,'afsd',42,5]))"
      ],
      "metadata": {
        "colab": {
          "base_uri": "https://localhost:8080/"
        },
        "id": "qfFoTI3zfnBc",
        "outputId": "8e35797e-3c82-494c-af62-34a95a79fdb3"
      },
      "execution_count": null,
      "outputs": [
        {
          "output_type": "stream",
          "name": "stdout",
          "text": [
            "[1, 2, 3, 67, 42, 5]\n"
          ]
        }
      ]
    },
    {
      "cell_type": "code",
      "source": [
        "  #2\n",
        "  s =input()\n",
        "  reverse = \"\"\n",
        "  for i in range(len(s)-1,-1,-1):\n",
        "    reverse += s[i]\n",
        "  print(reverse)\n"
      ],
      "metadata": {
        "colab": {
          "base_uri": "https://localhost:8080/"
        },
        "id": "zWOdL4egmGK9",
        "outputId": "295337ff-56e9-41b7-ead5-dd08859a4c4d"
      },
      "execution_count": null,
      "outputs": [
        {
          "output_type": "stream",
          "name": "stdout",
          "text": [
            "45\n",
            "54\n"
          ]
        }
      ]
    },
    {
      "cell_type": "code",
      "source": [
        "#3\n",
        "list=[1,2,3,4,5,6]\n",
        "first=list[0]\n",
        "middle=list[1:-1]\n",
        "last=list[-1]\n",
        "print(\"first =\",first )\n",
        "print(\"middle =\",middle)\n",
        "print(\"last = \",last)"
      ],
      "metadata": {
        "id": "SfosAul6Ay0v",
        "colab": {
          "base_uri": "https://localhost:8080/"
        },
        "outputId": "ea5757e5-02cd-4807-cd82-e57b9be406c8"
      },
      "execution_count": null,
      "outputs": [
        {
          "output_type": "stream",
          "name": "stdout",
          "text": [
            "first = 1\n",
            "middle = [2, 3, 4, 5]\n",
            "last =  6\n"
          ]
        }
      ]
    },
    {
      "cell_type": "code",
      "source": [
        "#4\n",
        "def fact(n):\n",
        "   if n == 1:\n",
        "       return n\n",
        "   else:\n",
        "       return n*fact(n-1)\n",
        "\n",
        "num = int(input(\"Enter the number : \"))\n",
        "\n",
        "\n",
        "if num < 0:\n",
        "   print(\"Sorry, factorial does not exist for negative numbers\")\n",
        "elif num == 0:\n",
        "   print(\"The factorial of 0 is 1\")\n",
        "else:\n",
        "   print(\"The factorial of\", num, \"is\", fact(num))"
      ],
      "metadata": {
        "id": "b7FO_ia1BGZQ",
        "colab": {
          "base_uri": "https://localhost:8080/",
          "height": 0
        },
        "outputId": "63378db4-1188-498d-a6c4-0afcf7dec192"
      },
      "execution_count": 1,
      "outputs": [
        {
          "output_type": "stream",
          "name": "stdout",
          "text": [
            "Enter the number : 5\n",
            "The factorial of 5 is 120\n"
          ]
        }
      ]
    },
    {
      "cell_type": "code",
      "source": [
        "#5\n",
        "def move_to_end(array, Move):\n",
        "    i = 0\n",
        "    s = len(array) - 1\n",
        "    while (i < s):\n",
        "        while (i < s and array[s] == Move):\n",
        "            s-=1\n",
        "  \n",
        "        if (array[i] == Move):\n",
        "            array[i], array[s] = array[s] , array[i]\n",
        "        i += 1\n",
        "    return array\n",
        "\n",
        "arr = ['x', 'x', 'x', 'y']\n",
        "k = 'x'\n",
        "res = move_to_end(arr, k)\n",
        "for i in range(len(arr)):\n",
        "    print(res[i] ,end= \" \")\n",
        "\n"
      ],
      "metadata": {
        "id": "iUwrQz1EBoPh",
        "colab": {
          "base_uri": "https://localhost:8080/"
        },
        "outputId": "5f19f6da-c341-4276-ab0c-c56890500f61"
      },
      "execution_count": null,
      "outputs": [
        {
          "output_type": "stream",
          "name": "stdout",
          "text": [
            "y x x x "
          ]
        }
      ]
    },
    {
      "cell_type": "markdown",
      "source": [
        "#Section C"
      ],
      "metadata": {
        "id": "AQsnluk7BuUu"
      }
    },
    {
      "cell_type": "code",
      "source": [
        "#1\n",
        "def repstr(str):\n",
        "    return ''.join([c+c for c in str])\n",
        "\n",
        "print(repstr('String'))"
      ],
      "metadata": {
        "id": "yCpvUgELBtfp",
        "colab": {
          "base_uri": "https://localhost:8080/"
        },
        "outputId": "2cb4e7d8-2bd0-41b8-936f-4eeddd03334c"
      },
      "execution_count": null,
      "outputs": [
        {
          "output_type": "stream",
          "name": "stdout",
          "text": [
            "SSttrriinngg\n"
          ]
        }
      ]
    },
    {
      "cell_type": "code",
      "source": [
        "#2\n",
        "def reverse_func(args):\n",
        "\tif isinstance(args, bool):\n",
        "\t\treturn not args\n",
        "\telse:\n",
        "\t\treturn('boolean expected')\n",
        "\n",
        "def reverse(args=None):\n",
        "\treturn not args if type(args) == bool else \"boolean expected\"\n",
        "\n",
        "print(reverse(True)) \n",
        "print(reverse(False)) \n",
        "print(reverse(0)) \n",
        "print(reverse(None)) "
      ],
      "metadata": {
        "colab": {
          "base_uri": "https://localhost:8080/"
        },
        "id": "Ae9c257hCjwJ",
        "outputId": "3aa603b4-e55f-4df1-9310-ea3f0bd73c5f"
      },
      "execution_count": null,
      "outputs": [
        {
          "output_type": "stream",
          "name": "stdout",
          "text": [
            "False\n",
            "True\n",
            "boolean expected\n",
            "boolean expected\n"
          ]
        }
      ]
    },
    {
      "cell_type": "code",
      "source": [
        "#3\n",
        "def funct2(a):\n",
        "    result = 0.5\n",
        "    for i in range(a):\n",
        "        result *= 2\n",
        "    \n",
        "    return result / 1000 \n",
        "funct2(1)"
      ],
      "metadata": {
        "colab": {
          "base_uri": "https://localhost:8080/"
        },
        "id": "mO3hwi0fDA3R",
        "outputId": "1398c23c-b214-4add-d37f-75c055b1445a"
      },
      "execution_count": null,
      "outputs": [
        {
          "output_type": "execute_result",
          "data": {
            "text/plain": [
              "0.001"
            ]
          },
          "metadata": {},
          "execution_count": 6
        }
      ]
    },
    {
      "cell_type": "code",
      "source": [
        "#4\n",
        "test1 = \"PrasadBhor\"\n",
        " \n",
        "\n",
        "print(\"The original string is : \" + str(test1))\n",
        " \n",
        "\n",
        "result = [idx for idx in range(len(test1)) if test1[idx].isupper()]\n",
        " \n",
        "\n",
        "print(\"Uppercase elements indices : \" + str(result ))"
      ],
      "metadata": {
        "colab": {
          "base_uri": "https://localhost:8080/"
        },
        "id": "vjLMs_VjDHfn",
        "outputId": "9ea7c68d-baef-4d9a-a062-11ed8a178c4c"
      },
      "execution_count": null,
      "outputs": [
        {
          "output_type": "stream",
          "name": "stdout",
          "text": [
            "The original string is : ShreyasHundekar\n",
            "Uppercase elements indices : [0, 7]\n"
          ]
        }
      ]
    },
    {
      "cell_type": "code",
      "source": [
        "#5\n",
        "\n",
        "test_list=[i for i in range (5) if(i%2==0)]\n",
        "\n",
        "print(test_list)"
      ],
      "metadata": {
        "colab": {
          "base_uri": "https://localhost:8080/"
        },
        "id": "GO7RljvlDUeJ",
        "outputId": "5d384ec4-0087-4683-db09-569e6b1f75c5"
      },
      "execution_count": null,
      "outputs": [
        {
          "output_type": "stream",
          "name": "stdout",
          "text": [
            "[0, 2, 4]\n"
          ]
        }
      ]
    },
    {
      "cell_type": "markdown",
      "source": [
        "#Section D"
      ],
      "metadata": {
        "id": "37TCYb12Dicg"
      }
    },
    {
      "cell_type": "code",
      "source": [
        "#1\n",
        "list1 = [3,4,5,\"Prasad\", \"Bhor\"]\n",
        "output = [x for x in list1 if type(x) != str]\n",
        "print(output)"
      ],
      "metadata": {
        "colab": {
          "base_uri": "https://localhost:8080/"
        },
        "id": "M8iAIAzgDgwo",
        "outputId": "427da6f0-f21b-4956-98a5-a3db0ce7100d"
      },
      "execution_count": null,
      "outputs": [
        {
          "output_type": "stream",
          "name": "stdout",
          "text": [
            "[3, 4, 5]\n"
          ]
        }
      ]
    },
    {
      "cell_type": "code",
      "source": [
        "#2\n",
        "def add(list1):\n",
        "    sum = 0\n",
        "    index = []\n",
        "    for i in list1:\n",
        "        index.append(list1.index(i,sum) + i)\n",
        "        sum+=1\n",
        "    return index\n",
        "\n",
        "add([1, 2, 3, 4, 5])"
      ],
      "metadata": {
        "id": "B66ATcQ6DqvQ",
        "colab": {
          "base_uri": "https://localhost:8080/"
        },
        "outputId": "9453e725-d2c9-4aeb-a242-3527b7f9585b"
      },
      "execution_count": null,
      "outputs": [
        {
          "output_type": "execute_result",
          "data": {
            "text/plain": [
              "[1, 3, 5, 7, 9]"
            ]
          },
          "metadata": {},
          "execution_count": 16
        }
      ]
    },
    {
      "cell_type": "code",
      "source": [
        "#3\n",
        "import math\n",
        "Pi = math.pi\n",
        "def volume1(r, h):\n",
        "    return (1 / 3) * Pi * r * r * h\n",
        "def surface_area(r, s):\n",
        "    return Pi * r * s + Pi * r * r\n",
        "radius = float(2)\n",
        "height = float(3)\n",
        "slant_height = float(5)\n",
        "print( \"Volume Of Cone : \", volume1(radius, height) )\n",
        "print( \"Surface Area Of Cone : \", surface_area(radius, slant_height) )"
      ],
      "metadata": {
        "colab": {
          "base_uri": "https://localhost:8080/"
        },
        "id": "GAHsiQi7DstN",
        "outputId": "cc4692ab-acdf-4aeb-a532-bb7c123e4695"
      },
      "execution_count": null,
      "outputs": [
        {
          "output_type": "stream",
          "name": "stdout",
          "text": [
            "Volume Of Cone :  12.566370614359172\n",
            "Surface Area Of Cone :  43.982297150257104\n"
          ]
        }
      ]
    },
    {
      "cell_type": "code",
      "source": [
        "#5\n",
        "def missing_number(list1):\n",
        "\n",
        "   for n in range(1,11):\n",
        "\n",
        "       if n not in list1:\n",
        "\n",
        "           print(n)\n",
        "\n",
        "list1 = (1,3,4,5,6,7,8,9,10)\n",
        "\n",
        "missing_number(list1)"
      ],
      "metadata": {
        "colab": {
          "base_uri": "https://localhost:8080/"
        },
        "id": "BiQdJt_fECi0",
        "outputId": "c9906b99-3b1a-4cb2-99cb-9be56eeedb7f"
      },
      "execution_count": null,
      "outputs": [
        {
          "output_type": "stream",
          "name": "stdout",
          "text": [
            "2\n"
          ]
        }
      ]
    }
  ]
}