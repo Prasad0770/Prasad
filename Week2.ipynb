{
  "nbformat": 4,
  "nbformat_minor": 0,
  "metadata": {
    "colab": {
      "provenance": [],
      "collapsed_sections": []
    },
    "kernelspec": {
      "name": "python3",
      "display_name": "Python 3"
    },
    "language_info": {
      "name": "python"
    }
  },
  "cells": [
    {
      "cell_type": "markdown",
      "source": [
        "#Section A"
      ],
      "metadata": {
        "id": "FaPGmM-Z51ZQ"
      }
    },
    {
      "cell_type": "markdown",
      "source": [
        "1.Create a function that takes three integer arguments (a, b, c) and returns the amount of integers which are of equal value.\n"
      ],
      "metadata": {
        "id": "Xc-rw8l0EVWx"
      }
    },
    {
      "cell_type": "code",
      "execution_count": null,
      "metadata": {
        "id": "iwMhqv4X882x",
        "colab": {
          "base_uri": "https://localhost:8080/"
        },
        "outputId": "6b70a301-75e3-48c1-c92f-733fc94dc436"
      },
      "outputs": [
        {
          "output_type": "stream",
          "name": "stdout",
          "text": [
            "0\n"
          ]
        }
      ],
      "source": [
        "def num(x,y,z,) :\n",
        "  if x == y and x == z:\n",
        "    return 3\n",
        "  elif x==y or x==z:\n",
        "    return 2\n",
        "  else:\n",
        "    return 0\n",
        "print(num(2,1,0))"
      ]
    },
    {
      "cell_type": "markdown",
      "source": [
        "2.Write a function that converts a dictionary into a list of keys-values tuples."
      ],
      "metadata": {
        "id": "SFEYqA7P77sb"
      }
    },
    {
      "cell_type": "code",
      "source": [
        "def convert():\n",
        "  dict = {1: \"2\", 3: \"4\", 5: \"6\", 7: \"8\" }\n",
        "  list = [(k, v) for k, v in dict.items()]\n",
        "  return list\n",
        "convert()"
      ],
      "metadata": {
        "colab": {
          "base_uri": "https://localhost:8080/"
        },
        "id": "cVdL7Oj36u6S",
        "outputId": "69602dea-748f-4794-e7e0-93c5f1ee3642"
      },
      "execution_count": null,
      "outputs": [
        {
          "output_type": "execute_result",
          "data": {
            "text/plain": [
              "[(1, '2'), (3, '4'), (5, '6'), (7, '8')]"
            ]
          },
          "metadata": {},
          "execution_count": 13
        }
      ]
    },
    {
      "cell_type": "markdown",
      "source": [
        "3. Write a function that creates a dictionary with each (key, value) pair being the (lower case, upper case) versions of a letter, respectively."
      ],
      "metadata": {
        "id": "1SfeCJHU3tj0"
      }
    },
    {
      "cell_type": "code",
      "source": [
        "def toupper():\n",
        "  list = ['v','e','d','a','n','t']\n",
        "  a = {}\n",
        "\n",
        "  for letters in list:\n",
        "    b = letters.upper()\n",
        "    a.update({letters:b})\n",
        "  print(a)"
      ],
      "metadata": {
        "colab": {
          "base_uri": "https://localhost:8080/"
        },
        "id": "myigwqBy3t4g",
        "outputId": "2caed308-1c9e-4ef9-ed5e-18d35ff2b7ce"
      },
      "execution_count": null,
      "outputs": [
        {
          "output_type": "stream",
          "name": "stdout",
          "text": [
            "{'v': 'V', 'e': 'E', 'd': 'D', 'a': 'A', 'n': 'N', 't': 'T'}\n"
          ]
        }
      ]
    },
    {
      "cell_type": "markdown",
      "source": [
        "4. Write a function, that replaces all vowels in a string with a specified vowel.\n"
      ],
      "metadata": {
        "id": "sxuBC0S032x8"
      }
    },
    {
      "cell_type": "code",
      "source": [
        "def change():\n",
        "  print(\"Enter the String: \")\n",
        "  str = input()\n",
        "\n",
        "  print(\"Enter a character: \")\n",
        "  char = input()\n",
        "\n",
        "  newstr = \"\"\n",
        "  for i in range(len(str)):\n",
        "      if str[i]=='a' or str[i]=='e' or str[i]=='i' or str[i]=='o' or str[i]=='u':\n",
        "          newstr = newstr + char\n",
        "      else:\n",
        "          newstr = newstr + str[i]\n",
        "\n",
        "  print(\"\\nOriginal String:\", str)\n",
        "  print(\"New String:\", newstr)\n",
        "change()"
      ],
      "metadata": {
        "colab": {
          "base_uri": "https://localhost:8080/"
        },
        "id": "8BRO4RI-33BA",
        "outputId": "bb7be7f3-01ef-41c6-a89c-dceadfd26eb1"
      },
      "execution_count": null,
      "outputs": [
        {
          "output_type": "stream",
          "name": "stdout",
          "text": [
            "Enter the String: \n",
            "Prasad\n",
            "Enter a character: \n",
            "x\n",
            "\n",
            "Original String: Prasad\n",
            "New String: Prxsxd\n"
          ]
        }
      ]
    },
    {
      "cell_type": "markdown",
      "source": [
        "5.Create a function that takes a string as input and capitalizes a letter if its ASCII code is even and returns its lower case version if its ASCII code is odd.\n"
      ],
      "metadata": {
        "id": "czA9-8FY5eR-"
      }
    },
    {
      "cell_type": "code",
      "source": [
        "def capitalizer(st):\n",
        "  res = []\n",
        "  for index, c in enumerate(st):\n",
        "    if index % 2 == 0:\n",
        "      res.append(c.upper())\n",
        "    else:\n",
        "      res.append(c.lower())\n",
        "  return '' .join(res)\n",
        "print(capitalizer(\"this is week two work.\"))"
      ],
      "metadata": {
        "colab": {
          "base_uri": "https://localhost:8080/"
        },
        "id": "j_WxsALW5eh-",
        "outputId": "9d17c291-c185-4159-8f8c-7ed55fa960b7"
      },
      "execution_count": null,
      "outputs": [
        {
          "output_type": "stream",
          "name": "stdout",
          "text": [
            "ThIs iS WeEk tWo wOrK.\n"
          ]
        }
      ]
    },
    {
      "cell_type": "markdown",
      "source": [
        "#Section B"
      ],
      "metadata": {
        "id": "gswm-Qxx7948"
      }
    },
    {
      "cell_type": "markdown",
      "source": [
        "1. Write a Python Program to Find the Sum of Natural Numbers?"
      ],
      "metadata": {
        "id": "uGQVO-6Z8BKx"
      }
    },
    {
      "cell_type": "code",
      "source": [
        "def sumofn(n):\n",
        "   if n <= 1:\n",
        "       return n\n",
        "   else:\n",
        "       return n + sumofn(n-1)\n",
        "x = int(input(\"Enter a number: \"))\n",
        "res = sumofn(x)\n",
        "print(res)"
      ],
      "metadata": {
        "colab": {
          "base_uri": "https://localhost:8080/"
        },
        "id": "q98yPcRX8BgV",
        "outputId": "533ad491-236b-4309-ce29-11ae2140a4c3"
      },
      "execution_count": null,
      "outputs": [
        {
          "output_type": "stream",
          "name": "stdout",
          "text": [
            "Enter a number: 10\n",
            "55\n"
          ]
        }
      ]
    },
    {
      "cell_type": "markdown",
      "source": [
        "2.Write a Python Program to Find the Factorial of a Number?"
      ],
      "metadata": {
        "id": "uSrhbOh69sdj"
      }
    },
    {
      "cell_type": "code",
      "source": [
        "def factorial(a):\n",
        "  if a==1:\n",
        "    return 1\n",
        "  else:\n",
        "    return a*factorial(a-1)\n",
        "\n",
        "x = int(input())\n",
        "res = factorial(x)\n",
        "print(res)"
      ],
      "metadata": {
        "id": "_-eo21tP9soN"
      },
      "execution_count": null,
      "outputs": []
    },
    {
      "cell_type": "markdown",
      "source": [
        "3.Write a Python Program to Print all Prime Numbers in an Interval of 1-10000?"
      ],
      "metadata": {
        "id": "VGJpq-Dw_VaK"
      }
    },
    {
      "cell_type": "code",
      "source": [
        "def primenos():\n",
        "  lower_limit = 1\n",
        "  upper_limit = 10000\n",
        "\n",
        "  for num in range(lower_limit, upper_limit+ 1):\n",
        "    if num > 1:\n",
        "        for i in range(2, num):\n",
        "            if (num % i) == 0:\n",
        "                break\n",
        "        else:\n",
        "          print(num)\n",
        "primenos()\n"
      ],
      "metadata": {
        "id": "r7mJAEJz_UTr"
      },
      "execution_count": null,
      "outputs": []
    },
    {
      "cell_type": "markdown",
      "source": [
        "4.Write a Python Program to Display the multiplication Table?"
      ],
      "metadata": {
        "id": "TTuUM4hiBKHw"
      }
    },
    {
      "cell_type": "code",
      "source": [
        "def table():\n",
        "  number = int(input())\n",
        "  for i in range(1,11):\n",
        "    print(number,\" x \",i,\" = \",number*i)\n",
        "table()"
      ],
      "metadata": {
        "colab": {
          "base_uri": "https://localhost:8080/"
        },
        "id": "ayHCPbW7BKSs",
        "outputId": "f68229be-cfd7-4d0d-b5b1-db5142c21fc6"
      },
      "execution_count": null,
      "outputs": [
        {
          "output_type": "stream",
          "name": "stdout",
          "text": [
            "12\n",
            "12  x  1  =  12\n",
            "12  x  2  =  24\n",
            "12  x  3  =  36\n",
            "12  x  4  =  48\n",
            "12  x  5  =  60\n",
            "12  x  6  =  72\n",
            "12  x  7  =  84\n",
            "12  x  8  =  96\n",
            "12  x  9  =  108\n",
            "12  x  10  =  120\n"
          ]
        }
      ]
    },
    {
      "cell_type": "markdown",
      "source": [
        "5.Write a Python Program to find largest element in an array?\n"
      ],
      "metadata": {
        "id": "hdHeh4kYFDt0"
      }
    },
    {
      "cell_type": "code",
      "source": [
        "def abc():\n",
        "  arr = [12, 3, 4, 15, 25, 923]\n",
        "  largest = 0\n",
        "  for i in range(len(arr)):\n",
        "    if arr[i] > largest:\n",
        "      largest = arr[i]\n",
        "  print(largest)\n",
        "abc()"
      ],
      "metadata": {
        "colab": {
          "base_uri": "https://localhost:8080/"
        },
        "id": "COIll445FD_D",
        "outputId": "cf478909-7a4e-426a-d1a8-23dcfcd73f7e"
      },
      "execution_count": null,
      "outputs": [
        {
          "output_type": "stream",
          "name": "stdout",
          "text": [
            "923\n"
          ]
        }
      ]
    }
  ]
}