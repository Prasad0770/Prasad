{
  "cells": [
    {
      "cell_type": "markdown",
      "metadata": {
        "id": "nLKD5vWchk5d"
      },
      "source": [
        "\n",
        "\n",
        "#Section A : Fundamentals of Python\n",
        "\n"
      ]
    },
    {
      "cell_type": "markdown",
      "metadata": {
        "id": "BJkwaUUAiRtN"
      },
      "source": [
        "1. Write a Python program to print “Hello Python”"
      ]
    },
    {
      "cell_type": "code",
      "execution_count": null,
      "metadata": {
        "colab": {
          "background_save": true
        },
        "id": "8WT3Ce4jhgce"
      },
      "outputs": [],
      "source": [
        "print(\"Hello Python\")\n",
        "a = 'Hello Python'\n",
        "print(a)"
      ]
    },
    {
      "cell_type": "markdown",
      "metadata": {
        "id": "LWvuBMJDiewI"
      },
      "source": [
        "2. Write a Python program to do arithmetical operations addition and division ?"
      ]
    },
    {
      "cell_type": "code",
      "execution_count": null,
      "metadata": {
        "colab": {
          "background_save": true
        },
        "id": "8R1YdBcLixL3"
      },
      "outputs": [],
      "source": [
        "a = 20\n",
        "b = 5\n",
        "sum = a + b\n",
        "print(sum)\n",
        "div = a/b\n",
        "print(div)"
      ]
    },
    {
      "cell_type": "markdown",
      "metadata": {
        "id": "VdTYqEufjAn3"
      },
      "source": [
        "3. Write a Python program to find the area of a triangle?"
      ]
    },
    {
      "cell_type": "code",
      "execution_count": null,
      "metadata": {
        "colab": {
          "background_save": true
        },
        "id": "HWqcIb88jBSK"
      },
      "outputs": [],
      "source": [
        "height = float(input(\"enter the height of the traingle: \"))\n",
        "base = float(input(\"enter the base of the traingle: \"))\n",
        "area = 0.5 *(base*height)\n",
        "print('Area of triangle is :', area)"
      ]
    },
    {
      "cell_type": "markdown",
      "metadata": {
        "id": "E3DGbnXDj74d"
      },
      "source": [
        "4. Write a Python program to swap two variables?"
      ]
    },
    {
      "cell_type": "code",
      "execution_count": null,
      "metadata": {
        "colab": {
          "background_save": true
        },
        "id": "uCziSCNaj-Dg"
      },
      "outputs": [],
      "source": [
        "c = 5\n",
        "d = 10\n",
        "\n",
        "c, d = d, c\n",
        "print(\"c =\", c)\n",
        "print(\"d =\", d)"
      ]
    },
    {
      "cell_type": "markdown",
      "metadata": {
        "id": "7e7fj9q7kQoy"
      },
      "source": [
        "5. Write a Python program to generate a random number?"
      ]
    },
    {
      "cell_type": "code",
      "execution_count": null,
      "metadata": {
        "colab": {
          "background_save": true
        },
        "id": "ZGe_IK7vkSyn"
      },
      "outputs": [],
      "source": [
        "import random \n",
        "rand_number = random.randint(0,100)\n",
        "print(rand_number)"
      ]
    },
    {
      "cell_type": "markdown",
      "metadata": {
        "id": "EcWCrqHXlMnF"
      },
      "source": [
        "#Section B:"
      ]
    },
    {
      "cell_type": "markdown",
      "metadata": {
        "id": "RCg9Jo8vlSVQ"
      },
      "source": [
        "1. Write a Python program to convert kilometers to miles?"
      ]
    },
    {
      "cell_type": "code",
      "execution_count": null,
      "metadata": {
        "colab": {
          "background_save": true
        },
        "id": "AGP02KBHlR3Q"
      },
      "outputs": [],
      "source": [
        "kilometers = float(input(\"Enter no of kilometers: \"))\n",
        "miles = kilometers*0.621371\n",
        "print(kilometers, 'km is ', miles,' miles')"
      ]
    },
    {
      "cell_type": "markdown",
      "metadata": {
        "id": "w5BfVW0ImJ1o"
      },
      "source": [
        "2. Write a Python program to convert Celsius to Fahrenheit?"
      ]
    },
    {
      "cell_type": "code",
      "execution_count": null,
      "metadata": {
        "colab": {
          "background_save": true
        },
        "id": "aO3gEw1dmNRQ"
      },
      "outputs": [],
      "source": [
        "Celsius = float(input('Enter the temperature in Celsius: '))\n",
        "Fahrenheit = (Celsius * 1.8) + 32\n",
        "print(Celsius, ' C is ', Fahrenheit , 'F')"
      ]
    },
    {
      "cell_type": "markdown",
      "metadata": {
        "id": "Zn7vRhifnDvP"
      },
      "source": [
        "3. Write a Python program to display calendar?"
      ]
    },
    {
      "cell_type": "code",
      "execution_count": 3,
      "metadata": {
        "colab": {
          "base_uri": "https://localhost:8080/"
        },
        "id": "Y59cHQ1OnGEm",
        "outputId": "c19acfd3-be80-4717-fcb0-1b0d380b4a77"
      },
      "outputs": [
        {
          "output_type": "stream",
          "name": "stdout",
          "text": [
            "2022\n",
            "9\n",
            "   September 2022\n",
            "Mo Tu We Th Fr Sa Su\n",
            "          1  2  3  4\n",
            " 5  6  7  8  9 10 11\n",
            "12 13 14 15 16 17 18\n",
            "19 20 21 22 23 24 25\n",
            "26 27 28 29 30\n",
            "\n"
          ]
        }
      ],
      "source": [
        "import calendar\n",
        "\n",
        "yy = int(input())\n",
        "mm = int(input())\n",
        "\n",
        "print(calendar.month(yy,mm))\n",
        "\n"
      ]
    },
    {
      "cell_type": "markdown",
      "metadata": {
        "id": "XxU9R1KQnqiS"
      },
      "source": [
        "4. Write a Python program to solve quadratic equation?"
      ]
    },
    {
      "cell_type": "code",
      "execution_count": null,
      "metadata": {
        "colab": {
          "base_uri": "https://localhost:8080/"
        },
        "id": "DjBPy1t6onRE",
        "outputId": "6034cb17-dd01-43bb-d0ea-dec96b66a6a0"
      },
      "outputs": [
        {
          "output_type": "stream",
          "name": "stdout",
          "text": [
            "Enter value of a: 2\n",
            "Enter value of b: 6\n",
            "Enter value of c: 3\n",
            "-0.6339745962155614 and -2.3660254037844384\n"
          ]
        }
      ],
      "source": [
        "import math\n",
        "\n",
        "a = int(input('Enter value of a: '))\n",
        "b = int(input('Enter value of b: '))\n",
        "c = int(input('Enter value of c: '))\n",
        "\n",
        "D = ((b**2)- (4*a*c))\n",
        "solution1 = (-b+math.sqrt(D))/(2*a)\n",
        "solution2 = (-b-math.sqrt(D))/(2*a)\n",
        "\n",
        "print(solution1,'and',solution2)"
      ]
    },
    {
      "cell_type": "markdown",
      "metadata": {
        "id": "Gscn4sTSqNRx"
      },
      "source": [
        "5. Write a Python program to swap two variables without temp variable?"
      ]
    },
    {
      "cell_type": "code",
      "execution_count": 4,
      "metadata": {
        "colab": {
          "base_uri": "https://localhost:8080/"
        },
        "id": "3dtTkRzKqKpN",
        "outputId": "033b8b28-5539-4257-c843-be1c133bf5e3"
      },
      "outputs": [
        {
          "output_type": "stream",
          "name": "stdout",
          "text": [
            "5\n",
            "10\n"
          ]
        }
      ],
      "source": [
        "x = 10\n",
        "y = 5\n",
        "\n",
        "x,y = y,x\n",
        "\n",
        "print(x)\n",
        "print(y)"
      ]
    },
    {
      "cell_type": "markdown",
      "metadata": {
        "id": "VWX9WBzIq2do"
      },
      "source": [
        "#Section C:"
      ]
    },
    {
      "cell_type": "markdown",
      "metadata": {
        "id": "cNH_N9Ocq5CP"
      },
      "source": [
        "1. Write a Python Program to Check if a Number is Positive, Negative or Zero?"
      ]
    },
    {
      "cell_type": "code",
      "execution_count": null,
      "metadata": {
        "colab": {
          "background_save": true
        },
        "id": "JwtKwVNtq6_d"
      },
      "outputs": [],
      "source": [
        "number = int(input('Enter a number: '))\n",
        "if number>0:\n",
        "  print(number,' is positive')\n",
        "elif number==0:\n",
        "  print('Zero')\n",
        "elif number<0:\n",
        "  print(number,' is negative')"
      ]
    },
    {
      "cell_type": "markdown",
      "metadata": {
        "id": "omjogtcavSBD"
      },
      "source": [
        "2. Write a Python Program to Check if a Number is Odd or Even?"
      ]
    },
    {
      "cell_type": "code",
      "execution_count": null,
      "metadata": {
        "colab": {
          "background_save": true
        },
        "id": "7h5u3gPlwweD"
      },
      "outputs": [],
      "source": [
        "number = int(input('Enter a number: '))\n",
        "if number%2==0:\n",
        "  print(number,' is Even')\n",
        "else:\n",
        "  print('{0} is Odd'.format(number))"
      ]
    },
    {
      "cell_type": "markdown",
      "metadata": {
        "id": "6pQ5S63q8kX4"
      },
      "source": [
        "3. Write a Python Program to Check Leap Year?"
      ]
    },
    {
      "cell_type": "code",
      "execution_count": null,
      "metadata": {
        "colab": {
          "background_save": true
        },
        "id": "jJnSPAvd8yDn"
      },
      "outputs": [],
      "source": [
        "year = int(input(\"Enter the year: \"))\n",
        "if year % 4 == 0 and year % 100 != 0:\n",
        "    print(year, \"is a leap year.\")\n",
        "elif year % 400 == 0:\n",
        "    print(year, \"is a leap year.\")\n",
        "elif year % 100 == 0:\n",
        "    print(year, \"is not a leap year.\")\n",
        "else:\n",
        "    print(year, \"is not a leap year.\")"
      ]
    },
    {
      "cell_type": "markdown",
      "metadata": {
        "id": "y2B8DVhQIP72"
      },
      "source": [
        "4. Write a Python Program to Check Prime Number?"
      ]
    },
    {
      "cell_type": "code",
      "execution_count": null,
      "metadata": {
        "colab": {
          "background_save": true
        },
        "id": "i_CCy8f-JSzJ"
      },
      "outputs": [],
      "source": [
        "num = int(input(\"Enter a number: \"))\n",
        "\n",
        "if num > 1:\n",
        "   \n",
        "    for i in range(2, int(num/2)+1):\n",
        "        if (num % i) == 0:\n",
        "            print(num, \"is not a prime number\")\n",
        "            break\n",
        "    else:\n",
        "        print(num, \"is a prime number\")\n",
        "else:\n",
        "    print(num, \"is not a prime number\")"
      ]
    },
    {
      "cell_type": "markdown",
      "metadata": {
        "id": "C7nmWXm7OZbm"
      },
      "source": [
        "5. Write a Python Program to Print all Prime Numbers in an Interval of 1-10000?"
      ]
    },
    {
      "cell_type": "code",
      "execution_count": null,
      "metadata": {
        "id": "rRPIu8yhOwx0"
      },
      "outputs": [],
      "source": [
        "lower_limit = 1\n",
        "upper_limit = 10000\n",
        "\n",
        "for num in range(lower_limit, upper_limit+ 1):\n",
        "   if num > 1:\n",
        "       for i in range(2, num):\n",
        "           if (num % i) == 0:\n",
        "               break\n",
        "       else:\n",
        "           print(num)"
      ]
    },
    {
      "cell_type": "markdown",
      "metadata": {
        "id": "UJcodZXpQUvE"
      },
      "source": [
        "#Section D:"
      ]
    },
    {
      "cell_type": "markdown",
      "metadata": {
        "id": "F92xRBC4Qgfl"
      },
      "source": [
        "1. Write a Python Program to Find the Factorial of a Number?"
      ]
    },
    {
      "cell_type": "code",
      "execution_count": null,
      "metadata": {
        "id": "A5i3mddjQiWu"
      },
      "outputs": [],
      "source": [
        "def factorial(a):\n",
        "  if a==1:\n",
        "    return 1\n",
        "  else:\n",
        "    return a*factorial(a-1)\n",
        "\n",
        "x = int(input())\n",
        "res = factorial(x)\n",
        "print(res)"
      ]
    },
    {
      "cell_type": "markdown",
      "metadata": {
        "id": "LqFA7nv4Rl-Z"
      },
      "source": [
        "2. Write a Python Program to Display the multiplication Table?"
      ]
    },
    {
      "cell_type": "code",
      "execution_count": null,
      "metadata": {
        "id": "M_O7SRteRo2B"
      },
      "outputs": [],
      "source": [
        "number = int(input())\n",
        "for i in range(1,11):\n",
        "  print(number,\" x \",i,\" = \",number*i)"
      ]
    },
    {
      "cell_type": "markdown",
      "metadata": {
        "id": "zzNZOF4GSHWw"
      },
      "source": [
        "3. Write a Python Program to Print the Fibonacci sequence?"
      ]
    },
    {
      "cell_type": "code",
      "execution_count": null,
      "metadata": {
        "id": "07jDjzqui2hH"
      },
      "outputs": [],
      "source": [
        "nthterm = int(input())\n",
        "a = 0\n",
        "b = 1\n",
        "res = 0\n",
        "if nthterm <= 0 : \n",
        "  print(\"Not valid\")\n",
        "elif nthterm == 1:\n",
        "  print(a)\n",
        "else:\n",
        "  print(\"Fibonnaci Sequence: \")\n",
        "  while res < nthterm :\n",
        "    print(a)\n",
        "    nth= a + b\n",
        "    a = b \n",
        "    b = nth\n",
        "    res += 1"
      ]
    },
    {
      "cell_type": "markdown",
      "metadata": {
        "id": "G0-PglIblA1B"
      },
      "source": [
        "4. Write a Python Program to Check Armstrong Number?"
      ]
    },
    {
      "cell_type": "code",
      "execution_count": null,
      "metadata": {
        "id": "jHRjML3IpPxC"
      },
      "outputs": [],
      "source": [
        "num = int(input(\"Enter a number: \"))\n",
        "sum = 0 \n",
        "temp = num \n",
        "while temp > 0:\n",
        "  digit = temp%10\n",
        "  sum += digit**3\n",
        "  temp = temp//10\n",
        "\n",
        "if num == sum:\n",
        "   print(num,\"is an Armstrong number\")\n",
        "else:\n",
        "   print(num,\"is not an Armstrong number\")\n",
        "\n"
      ]
    },
    {
      "cell_type": "markdown",
      "metadata": {
        "id": "t28jWkHUpQIC"
      },
      "source": [
        "5. Write a Python Program to Find Armstrong Number in an Interval?"
      ]
    },
    {
      "cell_type": "code",
      "execution_count": null,
      "metadata": {
        "id": "_P1879nclD6u"
      },
      "outputs": [],
      "source": [
        "lower  = int(input(\"enter the lower limit: \"))\n",
        "upper = int(input(\"enter the upper limit: \"))\n",
        "for i in range(lower, upper+1):\n",
        "  sum =0\n",
        "  num = i\n",
        "  while(i!=0):\n",
        "    digit=i%10\n",
        "    sum = sum + (digit**3)\n",
        "    i = i//10\n",
        "  if num == sum:\n",
        "    print(num)"
      ]
    },
    {
      "cell_type": "markdown",
      "metadata": {
        "id": "5Dj0CXfnsD-S"
      },
      "source": [
        "6. Write a Python Program to Find the Sum of Natural Numbers?"
      ]
    },
    {
      "cell_type": "code",
      "execution_count": null,
      "metadata": {
        "id": "TWWySqDnqZlu"
      },
      "outputs": [],
      "source": [
        "def sumofn(n):\n",
        "   if n <= 1:\n",
        "       return n\n",
        "   else:\n",
        "       return n + sumofn(n-1)\n",
        "x = int(input(\"Enter a number: \"))\n",
        "res = sumofn(x)\n",
        "print(res)"
      ]
    },
    {
      "cell_type": "markdown",
      "metadata": {
        "id": "5ivHz90Ew8ht"
      },
      "source": []
    },
    {
      "cell_type": "markdown",
      "metadata": {
        "id": "0xAMYM2mw-CF"
      },
      "source": [
        "#Section E:"
      ]
    },
    {
      "cell_type": "markdown",
      "metadata": {
        "id": "N-XJS3tExoAC"
      },
      "source": [
        "1. Write a Python Program to find sum of array?"
      ]
    },
    {
      "cell_type": "code",
      "execution_count": null,
      "metadata": {
        "id": "Ismlxs7rxqlx"
      },
      "outputs": [],
      "source": [
        "arr = [12, 3, 4, 15, 25]\n",
        "for i in arr:\n",
        "  sum += i\n",
        "print(sum)"
      ]
    },
    {
      "cell_type": "markdown",
      "metadata": {
        "id": "CNTY3H83yhRK"
      },
      "source": [
        "2. Write a Python Program to find largest element in an array?"
      ]
    },
    {
      "cell_type": "code",
      "execution_count": null,
      "metadata": {
        "id": "8kQcK-flyjEq"
      },
      "outputs": [],
      "source": [
        "arr = [12, 3, 4, 15, 25, 923]\n",
        "largest = 0\n",
        "for i in range(len(arr)):\n",
        "  if arr[i] > largest:\n",
        "    largest = arr[i]\n",
        "print(largest)"
      ]
    },
    {
      "cell_type": "markdown",
      "metadata": {
        "id": "nTdo9b-ZzFpt"
      },
      "source": [
        "3. Write a Python Program for array rotation?\n",
        "\n"
      ]
    },
    {
      "cell_type": "code",
      "execution_count": null,
      "metadata": {
        "id": "NCtA_PUVzI8N"
      },
      "outputs": [],
      "source": [
        "arr = [1, 2, 3, 4, 5]\n",
        "n = 2\n",
        "print(\"Original array\")\n",
        "for i in range(0,len(arr)):\n",
        "    print(arr[i])\n",
        "for i in range(0,n):\n",
        "    first = arr[0]\n",
        "    for j in range(0,len(arr)-1):\n",
        "        arr[j] =  arr[j+1]\n",
        "    arr[len(arr) - 1] = first\n",
        "\n",
        "print(\"Array after left rotation: \")\n",
        "for i in range(0, len(arr)):\n",
        "    print(arr[i])"
      ]
    },
    {
      "cell_type": "markdown",
      "source": [
        "4. Write a Python Program to Split the array and add the first part to the end?"
      ],
      "metadata": {
        "id": "GzvWz5BE5Fbj"
      }
    },
    {
      "cell_type": "code",
      "source": [
        "def split(arr, k):\n",
        "    arr = arr[k:] + arr[:k]\n",
        "    return arr\n",
        "   \n",
        "k = 2\n",
        "arr = [10, 13, 5, 17]\n",
        "print(\"Output array is\", split(arr, k))"
      ],
      "metadata": {
        "colab": {
          "base_uri": "https://localhost:8080/"
        },
        "id": "KDvk8SEB5Hv6",
        "outputId": "faab0496-0f05-4fa2-f196-5e82b841ec5b"
      },
      "execution_count": 2,
      "outputs": [
        {
          "output_type": "stream",
          "name": "stdout",
          "text": [
            "Output array is [5, 17, 10, 13]\n"
          ]
        }
      ]
    },
    {
      "cell_type": "markdown",
      "source": [
        "5. Write a Python Program to check if given array is Monotonic?"
      ],
      "metadata": {
        "id": "NBfKJ_tr5Jwf"
      }
    },
    {
      "cell_type": "code",
      "source": [
        "def isMonotonic(A):\n",
        "   return (all(A[i] <= A[i + 1] for i in range(len(A) - 1)) or\n",
        "      all(A[i] >= A[i + 1] for i in range(len(A) - 1)))\n",
        "A = [1,2,3,4,7,8]\n",
        "print(isMonotonic(A))"
      ],
      "metadata": {
        "colab": {
          "base_uri": "https://localhost:8080/"
        },
        "id": "T5DOrZxt5Kdi",
        "outputId": "5d313690-60d6-4048-ce81-160848f537db"
      },
      "execution_count": 1,
      "outputs": [
        {
          "output_type": "stream",
          "name": "stdout",
          "text": [
            "True\n"
          ]
        }
      ]
    },
    {
      "cell_type": "markdown",
      "metadata": {
        "id": "BWnHoodtJM1s"
      },
      "source": [
        "#Section F:"
      ]
    },
    {
      "cell_type": "markdown",
      "metadata": {
        "id": "YPO6Q7qDJPEr"
      },
      "source": [
        "1. Write a Python program to find sum of elements in list?"
      ]
    },
    {
      "cell_type": "code",
      "execution_count": null,
      "metadata": {
        "id": "n3KILTduJmTO"
      },
      "outputs": [],
      "source": [
        "list = [1, 2, 3, 1, 2, 5]\n",
        "sum = 0\n",
        "for i in list:\n",
        "  sum += i\n",
        "print(sum)\n"
      ]
    },
    {
      "cell_type": "markdown",
      "metadata": {
        "id": "bWXL4V2dKCWu"
      },
      "source": [
        "2. Write a Python program to Multiply all numbers in the list?"
      ]
    },
    {
      "cell_type": "code",
      "execution_count": null,
      "metadata": {
        "id": "oD_KyUntKER7"
      },
      "outputs": [],
      "source": [
        "list = [1, 2, 3, 1, 2, 5]\n",
        "product = 1\n",
        "for i in list:\n",
        "  product *= i\n",
        "print(product)"
      ]
    },
    {
      "cell_type": "markdown",
      "metadata": {
        "id": "YeyCaT6RKWju"
      },
      "source": [
        "3. Write a Python program to find smallest number in a list?"
      ]
    },
    {
      "cell_type": "code",
      "execution_count": null,
      "metadata": {
        "id": "i6w-qyseKYty"
      },
      "outputs": [],
      "source": [
        "list1 = [10, 20, 1, 45, 99]\n",
        "list1.sort()\n",
        "print(list1[:1])"
      ]
    },
    {
      "cell_type": "markdown",
      "metadata": {
        "id": "1cW7_LAuLHg3"
      },
      "source": [
        "4. Write a Python program to find largest number in a list?"
      ]
    },
    {
      "cell_type": "code",
      "execution_count": null,
      "metadata": {
        "id": "C-MVGevjLL34"
      },
      "outputs": [],
      "source": [
        "list1 = [10, 20, 1, 45, 99]\n",
        "list1.sort()\n",
        "print(list1[-1:])"
      ]
    },
    {
      "cell_type": "markdown",
      "metadata": {
        "id": "Hc2cuG45Li6I"
      },
      "source": [
        "5. Write a Python program to find second largest number in a list?"
      ]
    },
    {
      "cell_type": "code",
      "execution_count": null,
      "metadata": {
        "id": "Qo032dSwLmIP"
      },
      "outputs": [],
      "source": [
        "list1 = [10, 20, 1, 45, 99]\n",
        "list1.sort()\n",
        "print(list1[-2:-1])"
      ]
    },
    {
      "cell_type": "markdown",
      "metadata": {
        "id": "jPg_mxO7LuzV"
      },
      "source": [
        "6. Write a Python program to find N largest elements from a list?"
      ]
    },
    {
      "cell_type": "code",
      "execution_count": null,
      "metadata": {
        "id": "6BaUBiV8LxUL"
      },
      "outputs": [],
      "source": [
        "def function1(lis, N):\n",
        "    list2 = []\n",
        "\n",
        "    for i in range(0, N):\n",
        "        max1 = 0\n",
        "\n",
        "        for j in range(len(lis)):\n",
        "            if list1[j] > max1:\n",
        "                max1 = list1[j];\n",
        "\n",
        "        list1.remove(max1)\n",
        "        list2.append(max1)\n",
        "\n",
        "    print(list2)\n",
        "\n",
        "\n",
        "list1 = [22, 26, 41, 985, 0, 3, 17, 66, 10]\n",
        "N = int(input())\n",
        "function1(list1, N)"
      ]
    },
    {
      "cell_type": "markdown",
      "metadata": {
        "id": "lSiXx2-1aQWd"
      },
      "source": [
        "7. Write a Python program to print even numbers in a list?"
      ]
    },
    {
      "cell_type": "code",
      "execution_count": null,
      "metadata": {
        "id": "Myv3yIZ_aRaO"
      },
      "outputs": [],
      "source": [
        "list1 = [10, 20, 1, 45, 99]\n",
        "for i in list1:\n",
        "  if i%2 == 0:\n",
        "    print(i)\n",
        "  \n"
      ]
    },
    {
      "cell_type": "markdown",
      "metadata": {
        "id": "qgEw_lEfafQu"
      },
      "source": [
        "8. Write a Python program to print odd numbers in a List?"
      ]
    },
    {
      "cell_type": "code",
      "execution_count": null,
      "metadata": {
        "id": "Y1nwavKxaf2E"
      },
      "outputs": [],
      "source": [
        "list1 = [10, 20, 1, 45, 99]\n",
        "for i in list1:\n",
        "  if i%2 != 0:\n",
        "    print(i)\n",
        "  "
      ]
    },
    {
      "cell_type": "markdown",
      "metadata": {
        "id": "wQmKnELbaQR1"
      },
      "source": [
        "9. Write a Python program to Remove empty List from List?"
      ]
    },
    {
      "cell_type": "code",
      "execution_count": null,
      "metadata": {
        "id": "lDHboNoVazW6"
      },
      "outputs": [],
      "source": [
        "list2 = [10, 20, 1, 45, 99, [] ,984 , [] , 23, [3,4]]\n",
        "\n",
        "newlist = []\n",
        "for i in list2:\n",
        "  if i:\n",
        "    newlist.append(i)\n",
        "print(newlist)"
      ]
    },
    {
      "cell_type": "markdown",
      "metadata": {
        "id": "vthQPRm4bXSA"
      },
      "source": [
        "10. Write a Python program to Cloning or Copying a list?"
      ]
    },
    {
      "cell_type": "code",
      "execution_count": null,
      "metadata": {
        "id": "WXwMcExxbYLi"
      },
      "outputs": [],
      "source": [
        "\n",
        "list3 = [10, 22, 44, 23, 4, 34]\n",
        "new_list = list3.copy()\n",
        "print(list3)\n",
        "print(new_list)\n",
        "\n"
      ]
    },
    {
      "cell_type": "markdown",
      "metadata": {
        "id": "hzNIUziCPF8S"
      },
      "source": [
        "11. Write a Python program to Count occurrences of an element in a list?"
      ]
    },
    {
      "cell_type": "code",
      "execution_count": 6,
      "metadata": {
        "colab": {
          "base_uri": "https://localhost:8080/"
        },
        "id": "swpzMP20PMCG",
        "outputId": "0e5a7538-8521-475c-8a44-5a9900f707f8"
      },
      "outputs": [
        {
          "output_type": "stream",
          "name": "stdout",
          "text": [
            "int 10 is repeated: 6 times\n"
          ]
        }
      ],
      "source": [
        "list3 = [10, 22, 44, 23, 4, 34, 10, 10, 10 , 10]\n",
        "x = 10\n",
        "y = []\n",
        "for i in list3:\n",
        "  if i == x:\n",
        "    y.append(i)\n",
        "\n",
        "print(\"int 10 is repeated:\",len(y),\"times\")\n",
        "\n",
        "\n"
      ]
    }
  ],
  "metadata": {
    "colab": {
      "collapsed_sections": [],
      "name": "Week1.ipynb",
      "provenance": []
    },
    "kernelspec": {
      "display_name": "Python 3",
      "name": "python3"
    },
    "language_info": {
      "name": "python"
    }
  },
  "nbformat": 4,
  "nbformat_minor": 0
}