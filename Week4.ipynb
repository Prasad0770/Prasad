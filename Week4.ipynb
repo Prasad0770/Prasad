{
  "nbformat": 4,
  "nbformat_minor": 0,
  "metadata": {
    "colab": {
      "provenance": [],
      "collapsed_sections": []
    },
    "kernelspec": {
      "name": "python3",
      "display_name": "Python 3"
    },
    "language_info": {
      "name": "python"
    }
  },
  "cells": [
    {
      "cell_type": "code",
      "execution_count": null,
      "metadata": {
        "colab": {
          "base_uri": "https://localhost:8080/"
        },
        "id": "Cb8rNyaBMJ54",
        "outputId": "784e8653-ca48-48c1-8a13-514e6d1e5e79"
      },
      "outputs": [
        {
          "output_type": "stream",
          "name": "stdout",
          "text": [
            "120 20\n"
          ]
        }
      ],
      "source": [
        "#1\n",
        "class vehicle:\n",
        "    def __init__(self, max_speed, mileage):\n",
        "        self.max_speed = max_speed\n",
        "        self.mileage = mileage\n",
        "        \n",
        "        \n",
        "car = vehicle(120,20 )\n",
        "print(car.max_speed, car.mileage)"
      ]
    },
    {
      "cell_type": "code",
      "source": [
        "#2\n",
        "class vehicle:\n",
        "    pass"
      ],
      "metadata": {
        "id": "UoHqbgkCOe4M"
      },
      "execution_count": null,
      "outputs": []
    },
    {
      "cell_type": "code",
      "source": [
        "#3\n",
        "\n",
        "class vehicle:\n",
        "    def __init__(self, name, mileage, capacity):\n",
        "        self.name = name\n",
        "        self.mileage = mileage\n",
        "        self.capacity = capacity\n",
        "\n",
        "\n",
        "class Bus(vehicle):\n",
        "    pass"
      ],
      "metadata": {
        "id": "vIt1vaqvOxw9"
      },
      "execution_count": null,
      "outputs": []
    },
    {
      "cell_type": "code",
      "source": [
        "class Vehicle:\n",
        "    def __init__(self, name, max_speed, mileage):\n",
        "        self.name = name\n",
        "        self.max_speed = max_speed\n",
        "        self.mileage = mileage\n",
        "\n",
        "    def bus_seating_capacity(self, capacity):\n",
        "        return capacity\n",
        "\n",
        "class Bus(Vehicle):\n",
        "    \n",
        "    def seating_capacity(self, capacity=50):\n",
        "        return super().bus_seating_capacity(capacity=50)\n",
        "bus = Bus(\"Tesla\", 180, 20)\n",
        "print(bus.seating_capacity())"
      ],
      "metadata": {
        "id": "Ns4BRbnrSpRE",
        "colab": {
          "base_uri": "https://localhost:8080/"
        },
        "outputId": "d3694159-9bea-4a81-e44d-3c2c8642e51a"
      },
      "execution_count": null,
      "outputs": [
        {
          "output_type": "stream",
          "name": "stdout",
          "text": [
            "50\n"
          ]
        }
      ]
    },
    {
      "cell_type": "code",
      "source": [
        "class vehicle:\n",
        "    def __init__(self, name, mileage, capacity):\n",
        "        self.name = name\n",
        "        self.mileage = mileage\n",
        "        self.capacity = capacity\n",
        "\n",
        "    def busfare(self):\n",
        "        return self.capacity * 100\n",
        "\n",
        "class Bus(vehicle):\n",
        "    def busfare(self):\n",
        "        amount = super().busfare()\n",
        "        amount += amount * 10 / 100\n",
        "        return amount\n",
        "\n",
        "bus = Bus(\"Tesla\", 15, 50)\n",
        "print(\"Total Bus fare is:\", bus.busfare())"
      ],
      "metadata": {
        "colab": {
          "base_uri": "https://localhost:8080/"
        },
        "id": "utytx0ZgV9iQ",
        "outputId": "722f375a-56d3-495c-9b0c-4031d77ce8d0"
      },
      "execution_count": null,
      "outputs": [
        {
          "output_type": "stream",
          "name": "stdout",
          "text": [
            "Total Bus fare is: 5500.0\n"
          ]
        }
      ]
    }
  ]
}